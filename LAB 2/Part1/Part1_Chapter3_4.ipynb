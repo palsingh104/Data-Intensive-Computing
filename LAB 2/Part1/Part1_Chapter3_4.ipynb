{
 "cells": [
  {
   "cell_type": "code",
   "execution_count": 4,
   "metadata": {
    "collapsed": true
   },
   "outputs": [],
   "source": [
    "#Lab2 \n",
    "#Part 1\n",
    "###############################################################\n",
    "##                      Chapter 3                            ##\n",
    "###############################################################"
   ]
  },
  {
   "cell_type": "code",
   "execution_count": 7,
   "metadata": {},
   "outputs": [
    {
     "name": "stdout",
     "output_type": "stream",
     "text": [
      "hello world!\n"
     ]
    }
   ],
   "source": [
    "#3.3.2\n",
    "print (\"hello world!\")"
   ]
  },
  {
   "cell_type": "code",
   "execution_count": 12,
   "metadata": {},
   "outputs": [
    {
     "name": "stdout",
     "output_type": "stream",
     "text": [
      "Susan now lives in Washington\n",
      " and makes $105000.0\n",
      "Ellen now lives in Texas\n",
      " and makes $78750.0\n"
     ]
    }
   ],
   "source": [
    "#3.3.3\n",
    "SALARY_RAISE_FACTOR = 0.05\n",
    "STATE_CODE_MAP = {'WA': 'Washington', 'TX': 'Texas'}\n",
    "def update_employee_record(rec):\n",
    "    old_sal = rec['salary']\n",
    "    new_sal = old_sal * (1 + SALARY_RAISE_FACTOR)\n",
    "    rec['salary'] = new_sal\n",
    "    state_code = rec['state_code']\n",
    "    rec['state_name'] = STATE_CODE_MAP[state_code]\n",
    "\n",
    "input_data = [\n",
    "    {'employee_name': 'Susan', 'salary': 100000.0,\n",
    "    'state_code': 'WA'},\n",
    "    {'employee_name': 'Ellen', 'salary': 75000.0,\n",
    "    'state_code': 'TX'},\n",
    "    ]\n",
    "\n",
    "for rec in input_data:\n",
    "    update_employee_record(rec)\n",
    "    name = rec['employee_name']\n",
    "    salary = rec['salary']\n",
    "    state = rec['state_name']\n",
    "    print (name + ' now lives in ' + state)\n",
    "    print (' and makes $' + str(salary))"
   ]
  },
  {
   "cell_type": "code",
   "execution_count": 13,
   "metadata": {
    "collapsed": true
   },
   "outputs": [],
   "source": [
    "#3.3.4\n",
    "my_integer = 2\n",
    "my_other_integer = 2 + 3\n",
    "my_float = 2.0\n",
    "my_true_bool = True\n",
    "my_false_bool = False\n",
    "this_is_true = (0 < 100)\n",
    "this_is_false = (0 > 100)"
   ]
  },
  {
   "cell_type": "code",
   "execution_count": 14,
   "metadata": {
    "collapsed": true
   },
   "outputs": [],
   "source": [
    "a_string = \"hello\"\n",
    "same_as_previous = 'hello'\n",
    "an_empty_string = \"\"\n",
    "w_a_single_quote = \"hello's\"\n",
    "multi_line_string = \"\"\"line 1 line 2\"\"\""
   ]
  },
  {
   "cell_type": "code",
   "execution_count": 16,
   "metadata": {},
   "outputs": [
    {
     "data": {
      "text/plain": [
       "'A'"
      ]
     },
     "execution_count": 16,
     "metadata": {},
     "output_type": "execute_result"
    }
   ],
   "source": [
    "\"ABCD\"[0]"
   ]
  },
  {
   "cell_type": "code",
   "execution_count": 17,
   "metadata": {},
   "outputs": [
    {
     "data": {
      "text/plain": [
       "'AB'"
      ]
     },
     "execution_count": 17,
     "metadata": {},
     "output_type": "execute_result"
    }
   ],
   "source": [
    "\"ABCD\"[0:2]"
   ]
  },
  {
   "cell_type": "code",
   "execution_count": 18,
   "metadata": {},
   "outputs": [
    {
     "data": {
      "text/plain": [
       "'BC'"
      ]
     },
     "execution_count": 18,
     "metadata": {},
     "output_type": "execute_result"
    }
   ],
   "source": [
    "\"ABCD\"[1:3]"
   ]
  },
  {
   "cell_type": "code",
   "execution_count": 19,
   "metadata": {},
   "outputs": [
    {
     "data": {
      "text/plain": [
       "'BCD'"
      ]
     },
     "execution_count": 19,
     "metadata": {},
     "output_type": "execute_result"
    }
   ],
   "source": [
    "\"ABCD\"[1:]"
   ]
  },
  {
   "cell_type": "code",
   "execution_count": 20,
   "metadata": {},
   "outputs": [
    {
     "data": {
      "text/plain": [
       "'ABC'"
      ]
     },
     "execution_count": 20,
     "metadata": {},
     "output_type": "execute_result"
    }
   ],
   "source": [
    "\"ABCD\"[:-1]"
   ]
  },
  {
   "cell_type": "code",
   "execution_count": 21,
   "metadata": {
    "collapsed": true
   },
   "outputs": [],
   "source": [
    "#3.4.1\n",
    "\n",
    "# This whole line is a comment\n",
    "a = 5 # and the last part of this line is too\n"
   ]
  },
  {
   "cell_type": "code",
   "execution_count": 22,
   "metadata": {
    "collapsed": true
   },
   "outputs": [],
   "source": [
    "def sqr(x):\n",
    "    \"This function just squares its input \"\n",
    "    return x * x"
   ]
  },
  {
   "cell_type": "code",
   "execution_count": 30,
   "metadata": {},
   "outputs": [
    {
     "name": "stdout",
     "output_type": "stream",
     "text": [
      "a \n",
      "['A ', 'b ', 'c ', 'd ']\n",
      "['A ', 5.7, 'B ', [1, 2, 3]]\n"
     ]
    }
   ],
   "source": [
    "#3.4.2\n",
    "\n",
    "my_list = [\"a \", \"b \", \"c \"]\n",
    "print (my_list[0]) # prints \"a \"\n",
    "my_list[0] = \"A \" # changes that element of the list\n",
    "my_list.append(\"d \") # adds new element to the end\n",
    "# List elements can be ANYTHING\n",
    "mixed_list = [\"A \", 5.7, \"B \", [1,2,3]]\n",
    "print(my_list)\n",
    "print(mixed_list)              "
   ]
  },
  {
   "cell_type": "code",
   "execution_count": 38,
   "metadata": {},
   "outputs": [
    {
     "name": "stdout",
     "output_type": "stream",
     "text": [
      "[1, 4, 9, 16, 25, 36, 49, 64]\n"
     ]
    }
   ],
   "source": [
    "original_list = [1,2,3,4,5,6,7,8]\n",
    "squares = [x*x for x in original_list]\n",
    "print(squares)\n",
    "#HELP"
   ]
  },
  {
   "cell_type": "code",
   "execution_count": 37,
   "metadata": {},
   "outputs": [
    {
     "name": "stdout",
     "output_type": "stream",
     "text": [
      "['a', 'b']\n"
     ]
    }
   ],
   "source": [
    "#3.4.3\n",
    "my_list = [\"a\", \"b\", \"c\"]\n",
    "first_two_elements = my_list[0:2]\n",
    "print(first_two_elements)"
   ]
  },
  {
   "cell_type": "code",
   "execution_count": 39,
   "metadata": {},
   "outputs": [
    {
     "data": {
      "text/plain": [
       "['ABC', 'DEF']"
      ]
     },
     "execution_count": 39,
     "metadata": {},
     "output_type": "execute_result"
    }
   ],
   "source": [
    "#3.4.4\n",
    "\"ABC DEF\".split()"
   ]
  },
  {
   "cell_type": "code",
   "execution_count": 40,
   "metadata": {},
   "outputs": [
    {
     "data": {
      "text/plain": [
       "['ABC', 'DEF']"
      ]
     },
     "execution_count": 40,
     "metadata": {},
     "output_type": "execute_result"
    }
   ],
   "source": [
    "\"ABC \\tDEF\".split()"
   ]
  },
  {
   "cell_type": "code",
   "execution_count": 41,
   "metadata": {},
   "outputs": [
    {
     "data": {
      "text/plain": [
       "['ABC', '\\tDEF']"
      ]
     },
     "execution_count": 41,
     "metadata": {},
     "output_type": "execute_result"
    }
   ],
   "source": [
    "\"ABC \\tDEF\".split(' ')"
   ]
  },
  {
   "cell_type": "code",
   "execution_count": 42,
   "metadata": {},
   "outputs": [
    {
     "data": {
      "text/plain": [
       "['', 'C', 'D']"
      ]
     },
     "execution_count": 42,
     "metadata": {},
     "output_type": "execute_result"
    }
   ],
   "source": [
    "\"ABCABD\".split(\"AB\")"
   ]
  },
  {
   "cell_type": "code",
   "execution_count": 43,
   "metadata": {},
   "outputs": [
    {
     "data": {
      "text/plain": [
       "'A,B,C'"
      ]
     },
     "execution_count": 43,
     "metadata": {},
     "output_type": "execute_result"
    }
   ],
   "source": [
    "\",\".join([\"A\", \"B\", \"C\"])"
   ]
  },
  {
   "cell_type": "code",
   "execution_count": 44,
   "metadata": {},
   "outputs": [
    {
     "data": {
      "text/plain": [
       "'BDF'"
      ]
     },
     "execution_count": 44,
     "metadata": {},
     "output_type": "execute_result"
    }
   ],
   "source": [
    "start, end, count_by = 1, 7, 2\n",
    "\"ABCDEFG\"[start: end: count_by]"
   ]
  },
  {
   "cell_type": "code",
   "execution_count": 48,
   "metadata": {},
   "outputs": [
    {
     "name": "stdout",
     "output_type": "stream",
     "text": [
      "1\n"
     ]
    }
   ],
   "source": [
    "#3.4.5\n",
    "my_tuple = (1, 2, \"hello world\")\n",
    "print(my_tuple[0]) # prints 1\n",
    "#my_tuple[1] = 5 # This will give an error!"
   ]
  },
  {
   "cell_type": "code",
   "execution_count": 49,
   "metadata": {
    "collapsed": true
   },
   "outputs": [],
   "source": [
    "my_tuple = (1, 2)\n",
    "zeroth_field, first_field = my_tuple"
   ]
  },
  {
   "cell_type": "code",
   "execution_count": 51,
   "metadata": {},
   "outputs": [
    {
     "name": "stdout",
     "output_type": "stream",
     "text": [
      "1\n",
      "Start of the year\n"
     ]
    }
   ],
   "source": [
    "#3.4.6\n",
    "my_dict = {\"January\": 1, \"February\":2}\n",
    "print(my_dict[\"January\"]) # prints 1\n",
    "my_dict[\"March\"] = 3 # add new element\n",
    "my_dict[\"January\"] = \"Start of the year\" # overwrite old value\n",
    "print(my_dict[\"January\"])"
   ]
  },
  {
   "cell_type": "code",
   "execution_count": 52,
   "metadata": {
    "collapsed": true
   },
   "outputs": [],
   "source": [
    "pairs = [(\"one\",1), (\"two\",2)]\n",
    "as_dict = dict(pairs)\n",
    "same_as_pairs = as_dict.items()"
   ]
  },
  {
   "cell_type": "code",
   "execution_count": 53,
   "metadata": {},
   "outputs": [
    {
     "data": {
      "text/plain": [
       "False"
      ]
     },
     "execution_count": 53,
     "metadata": {},
     "output_type": "execute_result"
    }
   ],
   "source": [
    "#3.4.7\n",
    "s = set()\n",
    "5 in s"
   ]
  },
  {
   "cell_type": "code",
   "execution_count": 54,
   "metadata": {},
   "outputs": [
    {
     "data": {
      "text/plain": [
       "True"
      ]
     },
     "execution_count": 54,
     "metadata": {},
     "output_type": "execute_result"
    }
   ],
   "source": [
    "s.add(5)\n",
    "5 in s"
   ]
  },
  {
   "cell_type": "code",
   "execution_count": 55,
   "metadata": {},
   "outputs": [
    {
     "name": "stdout",
     "output_type": "stream",
     "text": [
      "25\n"
     ]
    }
   ],
   "source": [
    "#3.5\n",
    "def my_function(x):\n",
    "    y = x+1\n",
    "    x_sqrd = x*x\n",
    "    return x_sqrd\n",
    "five_plus_one_sqrd = my_function(5)\n",
    "print(five_plus_one_sqrd)"
   ]
  },
  {
   "cell_type": "code",
   "execution_count": 57,
   "metadata": {
    "collapsed": true
   },
   "outputs": [],
   "source": [
    "def raise1(x, n=2):\n",
    "     return pow(x,n)"
   ]
  },
  {
   "cell_type": "code",
   "execution_count": 61,
   "metadata": {},
   "outputs": [
    {
     "name": "stdout",
     "output_type": "stream",
     "text": [
      "4\n",
      "8\n"
     ]
    }
   ],
   "source": [
    "two_sqrd = raise1(2)\n",
    "two_cubed = raise1(2, n=3)\n",
    "print(two_sqrd)\n",
    "print(two_cubed)"
   ]
  },
  {
   "cell_type": "code",
   "execution_count": 62,
   "metadata": {},
   "outputs": [
    {
     "name": "stdout",
     "output_type": "stream",
     "text": [
      "25\n"
     ]
    }
   ],
   "source": [
    "sqr = lambda x : x*x\n",
    "five_sqrd = sqr(5)\n",
    "print(five_sqrd)"
   ]
  },
  {
   "cell_type": "code",
   "execution_count": 63,
   "metadata": {
    "collapsed": true
   },
   "outputs": [],
   "source": [
    "def apply_to_evens(a_list, a_func):\n",
    "    return [a_func(x) for x in a_list if x%2==0]\n"
   ]
  },
  {
   "cell_type": "code",
   "execution_count": 65,
   "metadata": {},
   "outputs": [
    {
     "name": "stdout",
     "output_type": "stream",
     "text": [
      "[4, 16]\n"
     ]
    }
   ],
   "source": [
    "my_list = [1,2,3,4,5]\n",
    "sqrs_of_evens = apply_to_evens(my_list, lambda x:x*x)\n",
    "print(sqrs_of_evens)"
   ]
  },
  {
   "cell_type": "code",
   "execution_count": 67,
   "metadata": {},
   "outputs": [
    {
     "name": "stdout",
     "output_type": "stream",
     "text": [
      "the number is  1\n",
      "the number is  2\n",
      "the number is  3\n"
     ]
    }
   ],
   "source": [
    "#3.5.1\n",
    "my_list = [1, 2, 3]\n",
    "for x in my_list:\n",
    "    print(\"the number is \", x)\n"
   ]
  },
  {
   "cell_type": "code",
   "execution_count": 70,
   "metadata": {},
   "outputs": [
    {
     "name": "stdout",
     "output_type": "stream",
     "text": [
      "the value for  January  is  Start of the year\n",
      "the value for  February  is  2\n",
      "the value for  March  is  3\n"
     ]
    }
   ],
   "source": [
    "for key, value in my_dict.items():\n",
    "    print (\"the value for \", key, \" is \", value)"
   ]
  },
  {
   "cell_type": "code",
   "execution_count": 73,
   "metadata": {},
   "outputs": [
    {
     "name": "stdout",
     "output_type": "stream",
     "text": [
      "i is still less than five\n",
      "i is still less than five\n",
      "i is still less than five\n",
      "i is still less than five\n",
      "i is still less than five\n"
     ]
    }
   ],
   "source": [
    "i = 0\n",
    "while i < 5:\n",
    "    print(\"i is still less than five\")\n",
    "    i = i+1"
   ]
  },
  {
   "cell_type": "code",
   "execution_count": 74,
   "metadata": {},
   "outputs": [
    {
     "data": {
      "text/plain": [
       "5"
      ]
     },
     "execution_count": 74,
     "metadata": {},
     "output_type": "execute_result"
    }
   ],
   "source": [
    "#3.5.2\n",
    "int(5.6)"
   ]
  },
  {
   "cell_type": "code",
   "execution_count": 75,
   "metadata": {},
   "outputs": [
    {
     "data": {
      "text/plain": [
       "5.0"
      ]
     },
     "execution_count": 75,
     "metadata": {},
     "output_type": "execute_result"
    }
   ],
   "source": [
    "float(5)"
   ]
  },
  {
   "cell_type": "code",
   "execution_count": 76,
   "metadata": {},
   "outputs": [
    {
     "data": {
      "text/plain": [
       "False"
      ]
     },
     "execution_count": 76,
     "metadata": {},
     "output_type": "execute_result"
    }
   ],
   "source": [
    "bool(\"\")"
   ]
  },
  {
   "cell_type": "code",
   "execution_count": 77,
   "metadata": {},
   "outputs": [
    {
     "data": {
      "text/plain": [
       "True"
      ]
     },
     "execution_count": 77,
     "metadata": {},
     "output_type": "execute_result"
    }
   ],
   "source": [
    "bool(\"as\")"
   ]
  },
  {
   "cell_type": "code",
   "execution_count": 79,
   "metadata": {},
   "outputs": [
    {
     "name": "stdout",
     "output_type": "stream",
     "text": [
      "There were < 10 lines\n"
     ]
    }
   ],
   "source": [
    "#3.5.3\n",
    "try:\n",
    "    lines = input_text.split(\"\\n\")\n",
    "    print (\"tenth line was: \", lines[9])\n",
    "except:\n",
    "    print (\"There were < 10 lines\")"
   ]
  },
  {
   "cell_type": "code",
   "execution_count": 84,
   "metadata": {
    "collapsed": true
   },
   "outputs": [],
   "source": [
    "#3.5.4\n",
    "class Dog:\n",
    "    def __init__(self, name):\n",
    "        self.name = name\n",
    "    def respond_to_command(self, command):\n",
    "        if command == self.name: self.speak()\n",
    "    def speak(self):\n",
    "        print(\"bark bark!!\")"
   ]
  },
  {
   "cell_type": "code",
   "execution_count": 85,
   "metadata": {},
   "outputs": [
    {
     "name": "stdout",
     "output_type": "stream",
     "text": [
      "bark bark!!\n"
     ]
    }
   ],
   "source": [
    "fido = Dog(\"fido\")\n",
    "fido.respond_to_command(\"spot\") # does nothing\n",
    "fido.respond_to_command(\"fido\") # prints bark bark"
   ]
  },
  {
   "cell_type": "code",
   "execution_count": 87,
   "metadata": {},
   "outputs": [
    {
     "name": "stdout",
     "output_type": "stream",
     "text": [
      "5\n"
     ]
    }
   ],
   "source": [
    "a =5\n",
    "b =a\n",
    "a = a +1\n",
    "print (b)"
   ]
  },
  {
   "cell_type": "code",
   "execution_count": 88,
   "metadata": {},
   "outputs": [
    {
     "data": {
      "text/plain": [
       "[5]"
      ]
     },
     "execution_count": 88,
     "metadata": {},
     "output_type": "execute_result"
    }
   ],
   "source": [
    "A = []\n",
    "B = A\n",
    "A.append(5)\n",
    "B"
   ]
  },
  {
   "cell_type": "code",
   "execution_count": 91,
   "metadata": {},
   "outputs": [
    {
     "data": {
      "text/plain": [
       "'bob'"
      ]
     },
     "execution_count": 91,
     "metadata": {},
     "output_type": "execute_result"
    }
   ],
   "source": [
    "A = [{}, {}]\n",
    "B = [x for x in A]\n",
    "A[0][\"name\"] = \"bob\"\n",
    "B[0][\"name\"]"
   ]
  },
  {
   "cell_type": "code",
   "execution_count": 95,
   "metadata": {
    "collapsed": true,
    "scrolled": true
   },
   "outputs": [],
   "source": [
    "#3.6.1\n",
    "\n",
    "\n"
   ]
  },
  {
   "cell_type": "code",
   "execution_count": 94,
   "metadata": {},
   "outputs": [
    {
     "name": "stdout",
     "output_type": "stream",
     "text": [
      "Collecting numpy\n",
      "  Downloading numpy-1.14.2-cp36-cp36m-macosx_10_6_intel.macosx_10_9_intel.macosx_10_9_x86_64.macosx_10_10_intel.macosx_10_10_x86_64.whl (4.7MB)\n",
      "\u001b[K    100% |████████████████████████████████| 4.7MB 334kB/s eta 0:00:01\n",
      "\u001b[?25hInstalling collected packages: numpy\n",
      "Successfully installed numpy-1.14.2\n"
     ]
    }
   ],
   "source": [
    "import sys\n",
    "!{sys.executable} -m pip install numpy"
   ]
  },
  {
   "cell_type": "code",
   "execution_count": 97,
   "metadata": {
    "collapsed": true
   },
   "outputs": [],
   "source": [
    "import pandas as pd\n",
    "# Making data frame from a dictionary\n",
    "# that maps column names to their values\n",
    "df = pd.DataFrame({\n",
    "    \"name\": [\"Bob\", \"Alex\", \"Janice\"],\n",
    "    \"age\": [60, 25, 33]\n",
    "})\n",
    "\n",
    "\n"
   ]
  },
  {
   "cell_type": "code",
   "execution_count": 99,
   "metadata": {
    "collapsed": true
   },
   "outputs": [],
   "source": [
    "df[\"age_plus_one\"] = df[\"age\"] + 1\n",
    "df[\"age_times_two\"] = 2 * df[\"age\"]\n",
    "df[\"age_squared\"] = df[\"age\"] * df[\"age\"]\n",
    "df[\"over_30\"] = (df[\"age\"] > 30) # this col is bools\n",
    "# The columns have various built-in aggregate\n",
    "total_age = df[\"age\"].sum()\n",
    "median_age = df[\"age\"].quantile(0.5)\n",
    "# You can select several rows of the DataFrame\n",
    "# and make a new DataFrame out of them\n",
    "df_below50 = df[df[\"age\"] < 50]\n",
    "# Apply a custom function to a column\n",
    "df[\"age_squared\"] = df[\"age\"].apply(lambda x: x*x)"
   ]
  },
  {
   "cell_type": "code",
   "execution_count": 100,
   "metadata": {},
   "outputs": [
    {
     "name": "stdout",
     "output_type": "stream",
     "text": [
      "RangeIndex(start=0, stop=3, step=1)\n"
     ]
    }
   ],
   "source": [
    "print (df.index)"
   ]
  },
  {
   "cell_type": "code",
   "execution_count": 103,
   "metadata": {},
   "outputs": [
    {
     "name": "stdout",
     "output_type": "stream",
     "text": [
      "Index(['Bob', 'Alex', 'Janice'], dtype='object', name='name')\n",
      "60\n"
     ]
    },
    {
     "name": "stderr",
     "output_type": "stream",
     "text": [
      "/Library/Frameworks/Python.framework/Versions/3.6/lib/python3.6/site-packages/ipykernel_launcher.py:6: DeprecationWarning: \n",
      ".ix is deprecated. Please use\n",
      ".loc for label based indexing or\n",
      ".iloc for positional indexing\n",
      "\n",
      "See the documentation here:\n",
      "http://pandas.pydata.org/pandas-docs/stable/indexing.html#ix-indexer-is-deprecated\n",
      "  \n"
     ]
    }
   ],
   "source": [
    "# Create a DataFrame containing the same data,\n",
    "# but where name is the index\n",
    "df_w_name_as_ind = df.set_index(\"name\")\n",
    "print (df_w_name_as_ind.index) # prints their names\n",
    "# Get the row for Bob\n",
    "bobs_row = df_w_name_as_ind.ix[\"Bob\"]\n",
    "print(bobs_row[\"age\"]) # prints 60"
   ]
  },
  {
   "cell_type": "code",
   "execution_count": 104,
   "metadata": {},
   "outputs": [
    {
     "data": {
      "text/plain": [
       "0    1\n",
       "1    2\n",
       "2    3\n",
       "dtype: int64"
      ]
     },
     "execution_count": 104,
     "metadata": {},
     "output_type": "execute_result"
    }
   ],
   "source": [
    "#3.6.2\n",
    "\n",
    "import pandas as pd\n",
    "s = pd.Series([1,2,3])\n",
    "s"
   ]
  },
  {
   "cell_type": "code",
   "execution_count": 105,
   "metadata": {},
   "outputs": [
    {
     "data": {
      "text/plain": [
       "0    3\n",
       "1    4\n",
       "2    5\n",
       "dtype: int64"
      ]
     },
     "execution_count": 105,
     "metadata": {},
     "output_type": "execute_result"
    }
   ],
   "source": [
    "s+2"
   ]
  },
  {
   "cell_type": "code",
   "execution_count": 106,
   "metadata": {},
   "outputs": [
    {
     "data": {
      "text/plain": [
       "RangeIndex(start=0, stop=3, step=1)"
      ]
     },
     "execution_count": 106,
     "metadata": {},
     "output_type": "execute_result"
    }
   ],
   "source": [
    "s.index"
   ]
  },
  {
   "cell_type": "code",
   "execution_count": 107,
   "metadata": {},
   "outputs": [
    {
     "data": {
      "text/plain": [
       "0    5\n",
       "1    6\n",
       "2    8\n",
       "dtype: int64"
      ]
     },
     "execution_count": 107,
     "metadata": {},
     "output_type": "execute_result"
    }
   ],
   "source": [
    "s + pd.Series([4,4,5])"
   ]
  },
  {
   "cell_type": "code",
   "execution_count": 110,
   "metadata": {},
   "outputs": [
    {
     "data": {
      "text/plain": [
       "age                60\n",
       "age_plus_one       61\n",
       "age_times_two     120\n",
       "age_squared      3600\n",
       "over_30          True\n",
       "Name: Bob, dtype: object"
      ]
     },
     "execution_count": 110,
     "metadata": {},
     "output_type": "execute_result"
    }
   ],
   "source": [
    "bobs_row = df_w_name_as_ind.ix[\"Bob\"]\n",
    "type(bobs_row)\n",
    "bobs_row"
   ]
  },
  {
   "cell_type": "code",
   "execution_count": 111,
   "metadata": {
    "collapsed": true
   },
   "outputs": [],
   "source": [
    "#3.6.3\n",
    "df_w_age = pd.DataFrame({\n",
    "\"name\": [\"Tom\", \"Tyrell\", \"Claire\"],\n",
    "\"age\": [60, 25, 33]\n",
    "})"
   ]
  },
  {
   "cell_type": "code",
   "execution_count": 112,
   "metadata": {
    "collapsed": true
   },
   "outputs": [],
   "source": [
    "df_w_height = pd.DataFrame({\n",
    "\"name\": [\"Tom\", \"Tyrell\", \"Claire\"],\n",
    "\"height\": [6.2, 4.0, 5.5]\n",
    "})"
   ]
  },
  {
   "cell_type": "code",
   "execution_count": 113,
   "metadata": {
    "collapsed": true
   },
   "outputs": [],
   "source": [
    "joined = df_w_age.set_index(\"name\").join(\n",
    "df_w_height.set_index(\"name\"))"
   ]
  },
  {
   "cell_type": "code",
   "execution_count": 114,
   "metadata": {},
   "outputs": [
    {
     "name": "stdout",
     "output_type": "stream",
     "text": [
      "        age  height\n",
      "name               \n",
      "Tom      60     6.2\n",
      "Tyrell   25     4.0\n",
      "Claire   33     5.5\n"
     ]
    }
   ],
   "source": [
    "print(joined)"
   ]
  },
  {
   "cell_type": "code",
   "execution_count": 115,
   "metadata": {},
   "outputs": [
    {
     "name": "stdout",
     "output_type": "stream",
     "text": [
      "     name  age  height\n",
      "0     Tom   60     6.2\n",
      "1  Tyrell   25     4.0\n",
      "2  Claire   33     5.5\n"
     ]
    }
   ],
   "source": [
    "print (joined.reset_index())"
   ]
  },
  {
   "cell_type": "code",
   "execution_count": 116,
   "metadata": {
    "collapsed": true
   },
   "outputs": [],
   "source": [
    "df = pd.DataFrame({\n",
    "\"name\": [\"Tom\", \"Tyrell\", \"Claire\"],\n",
    "\"age\": [60, 25, 33],\n",
    "\"height\": [6.2, 4.0, 5.5],\"gender\": [\"M\", \"M\", \"F\"]\n",
    "})"
   ]
  },
  {
   "cell_type": "code",
   "execution_count": 117,
   "metadata": {},
   "outputs": [
    {
     "name": "stdout",
     "output_type": "stream",
     "text": [
      "         age  height\n",
      "gender              \n",
      "F       33.0     5.5\n",
      "M       42.5     5.1\n"
     ]
    }
   ],
   "source": [
    "print (df.groupby(\"gender\").mean())"
   ]
  },
  {
   "cell_type": "code",
   "execution_count": 118,
   "metadata": {
    "collapsed": true
   },
   "outputs": [],
   "source": [
    "medians = df.groupby(\"gender\").quantile(0.5)\n",
    "def agg(ddf):\n",
    "    return pd.Series({\n",
    "        \"name\": max(ddf[\"name\"]),\n",
    "        \"oldest\": max(ddf[\"age\"]),\n",
    "        \"mean_height\": ddf[\"height\"].mean() })"
   ]
  },
  {
   "cell_type": "code",
   "execution_count": 119,
   "metadata": {},
   "outputs": [
    {
     "name": "stdout",
     "output_type": "stream",
     "text": [
      "        mean_height    name  oldest\n",
      "gender                             \n",
      "F               5.5  Claire      33\n",
      "M               5.1  Tyrell      60\n"
     ]
    }
   ],
   "source": [
    "print (df.groupby(\"gender\").apply(agg))"
   ]
  },
  {
   "cell_type": "code",
   "execution_count": 120,
   "metadata": {
    "collapsed": true
   },
   "outputs": [],
   "source": [
    "###############################################################\n",
    "##                      Chapter 4                            ##\n",
    "###############################################################"
   ]
  },
  {
   "cell_type": "code",
   "execution_count": 121,
   "metadata": {},
   "outputs": [
    {
     "data": {
      "text/plain": [
       "'ABC'"
      ]
     },
     "execution_count": 121,
     "metadata": {},
     "output_type": "execute_result"
    }
   ],
   "source": [
    "#4.4.2\n",
    "\"ABC\\t\".strip()"
   ]
  },
  {
   "cell_type": "code",
   "execution_count": 122,
   "metadata": {},
   "outputs": [
    {
     "data": {
      "text/plain": [
       "'ABC\\t'"
      ]
     },
     "execution_count": 122,
     "metadata": {},
     "output_type": "execute_result"
    }
   ],
   "source": [
    "\" ABC\\t\".lstrip()"
   ]
  },
  {
   "cell_type": "code",
   "execution_count": 123,
   "metadata": {},
   "outputs": [
    {
     "data": {
      "text/plain": [
       "' ABC'"
      ]
     },
     "execution_count": 123,
     "metadata": {},
     "output_type": "execute_result"
    }
   ],
   "source": [
    "\" ABC\\t\".rstrip()"
   ]
  },
  {
   "cell_type": "code",
   "execution_count": 124,
   "metadata": {},
   "outputs": [
    {
     "data": {
      "text/plain": [
       "'AB'"
      ]
     },
     "execution_count": 124,
     "metadata": {},
     "output_type": "execute_result"
    }
   ],
   "source": [
    "\"ABC\".strip(\"C\")"
   ]
  },
  {
   "cell_type": "code",
   "execution_count": 2,
   "metadata": {},
   "outputs": [
    {
     "name": "stdout",
     "output_type": "stream",
     "text": [
      "abcÿ\n"
     ]
    }
   ],
   "source": [
    "#4.4.7\n",
    "s = \"abc\\xFF\"\n",
    "print(s)\n"
   ]
  },
  {
   "cell_type": "code",
   "execution_count": 3,
   "metadata": {},
   "outputs": [
    {
     "ename": "AttributeError",
     "evalue": "'str' object has no attribute 'decode'",
     "output_type": "error",
     "traceback": [
      "\u001b[0;31m---------------------------------------------------------------------------\u001b[0m",
      "\u001b[0;31mAttributeError\u001b[0m                            Traceback (most recent call last)",
      "\u001b[0;32m<ipython-input-3-8070bd940d40>\u001b[0m in \u001b[0;36m<module>\u001b[0;34m()\u001b[0m\n\u001b[0;32m----> 1\u001b[0;31m \u001b[0ms\u001b[0m\u001b[0;34m.\u001b[0m\u001b[0mdecode\u001b[0m\u001b[0;34m(\u001b[0m\u001b[0;34m\"ascii\"\u001b[0m\u001b[0;34m,\u001b[0m \u001b[0;34m\"ignore\"\u001b[0m\u001b[0;34m)\u001b[0m\u001b[0;34m\u001b[0m\u001b[0m\n\u001b[0m",
      "\u001b[0;31mAttributeError\u001b[0m: 'str' object has no attribute 'decode'"
     ]
    }
   ],
   "source": [
    "s.decode(\"ascii\", \"ignore\")"
   ]
  },
  {
   "cell_type": "code",
   "execution_count": 131,
   "metadata": {
    "collapsed": true
   },
   "outputs": [],
   "source": [
    "#4.4.7\n",
    "import dateutil.parser as p\n"
   ]
  },
  {
   "cell_type": "code",
   "execution_count": 132,
   "metadata": {},
   "outputs": [
    {
     "data": {
      "text/plain": [
       "datetime.datetime(1985, 8, 13, 0, 0)"
      ]
     },
     "execution_count": 132,
     "metadata": {},
     "output_type": "execute_result"
    }
   ],
   "source": [
    "p.parse(\"August 13, 1985\")"
   ]
  },
  {
   "cell_type": "code",
   "execution_count": 133,
   "metadata": {},
   "outputs": [
    {
     "data": {
      "text/plain": [
       "datetime.datetime(2013, 8, 13, 0, 0)"
      ]
     },
     "execution_count": 133,
     "metadata": {},
     "output_type": "execute_result"
    }
   ],
   "source": [
    "p.parse(\"2013-8-13\")"
   ]
  },
  {
   "cell_type": "code",
   "execution_count": 134,
   "metadata": {},
   "outputs": [
    {
     "data": {
      "text/plain": [
       "datetime.datetime(2013, 8, 13, 4, 15)"
      ]
     },
     "execution_count": 134,
     "metadata": {},
     "output_type": "execute_result"
    }
   ],
   "source": [
    "p.parse(\"2013-8-13 4:15am\")"
   ]
  },
  {
   "cell_type": "code",
   "execution_count": 135,
   "metadata": {
    "collapsed": true
   },
   "outputs": [],
   "source": [
    "def get_first_last_name(s):\n",
    "    INVALID_NAME_PARTS = [\"mr\", \"ms\", \"mrs\",\n",
    "        \"dr\", \"jr\", \"sir\"]\n",
    "    parts = s.lower().replace(\".\",\"\").strip().split()\n",
    "    parts = [p for p in parts\n",
    "        if p not in INVALID_NAME_PARTS]\n",
    "    if len(parts)==0:\n",
    "            raise ValueError(\n",
    "                \"Name %s is formatted wrong\" % s)\n",
    "    first, last = parts[0], parts[-1]\n",
    "    first = first[0].upper() + first[1:]\n",
    "    last = last[0].upper() + last[1:]\n",
    "    return first, last\n",
    "def format_age(s):\n",
    "    chars = list(s) # list of characters\n",
    "    digit_chars = [c for c in chars if c.isdigit()]\n",
    "    return int(\"\".join(digit_chars))\n",
    "def format_date(s):\n",
    "    MONTH_MAP = {\"jan\": \"01\", \"feb\": \"02\", \"may\": \"03\"}\n",
    "    s = s.strip().lower().replace(\",\", \"\")\n",
    "    m, d, y = s.split()\n",
    "    if len(y) == 2: y = \"19\" + y\n",
    "    if len(d) == 1: d = \"0\" + d\n",
    "    return y + \"-\" + MONTH_MAP[m[:3]] + \"-\" + d"
   ]
  },
  {
   "cell_type": "code",
   "execution_count": null,
   "metadata": {
    "collapsed": true
   },
   "outputs": [],
   "source": []
  }
 ],
 "metadata": {
  "kernelspec": {
   "display_name": "Python 3",
   "language": "python",
   "name": "python3"
  },
  "language_info": {
   "codemirror_mode": {
    "name": "ipython",
    "version": 3
   },
   "file_extension": ".py",
   "mimetype": "text/x-python",
   "name": "python",
   "nbconvert_exporter": "python",
   "pygments_lexer": "ipython3",
   "version": "3.6.3"
  }
 },
 "nbformat": 4,
 "nbformat_minor": 2
}
