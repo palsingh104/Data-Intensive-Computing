{
 "cells": [
  {
   "cell_type": "code",
   "execution_count": 8,
   "metadata": {},
   "outputs": [],
   "source": [
    "#Programmers: Gursimrat Singh and Palwinder Singh \n",
    "#Lab 1\n",
    "#Part 3\n",
    "#Course: CSE487/587\n"
   ]
  },
  {
   "cell_type": "code",
   "execution_count": 9,
   "metadata": {},
   "outputs": [
    {
     "name": "stderr",
     "output_type": "stream",
     "text": [
      "also installing the dependencies ‘rlang’, ‘utf8’, ‘bit’, ‘pillar’, ‘bit64’, ‘tibble’\n",
      "\n",
      "Warning message in install.packages(\"rtweet\"):\n",
      "“installation of package ‘rlang’ had non-zero exit status”Warning message in install.packages(\"rtweet\"):\n",
      "“installation of package ‘utf8’ had non-zero exit status”Warning message in install.packages(\"rtweet\"):\n",
      "“installation of package ‘bit’ had non-zero exit status”Warning message in install.packages(\"rtweet\"):\n",
      "“installation of package ‘pillar’ had non-zero exit status”Warning message in install.packages(\"rtweet\"):\n",
      "“installation of package ‘bit64’ had non-zero exit status”Warning message in install.packages(\"rtweet\"):\n",
      "“installation of package ‘tibble’ had non-zero exit status”Warning message in install.packages(\"rtweet\"):\n",
      "“installation of package ‘rtweet’ had non-zero exit status”Updating HTML index of packages in '.Library'\n",
      "Making 'packages.html' ... done\n",
      "Warning message in install.packages(\"openssl\"):\n",
      "“installation of package ‘openssl’ had non-zero exit status”Updating HTML index of packages in '.Library'\n",
      "Making 'packages.html' ... done\n",
      "Warning message in install.packages(\"httpuv\"):\n",
      "“installation of package ‘httpuv’ had non-zero exit status”Updating HTML index of packages in '.Library'\n",
      "Making 'packages.html' ... done\n"
     ]
    }
   ],
   "source": [
    "#Installing Required Libraries\n",
    "install.packages(\"rtweet\")\n",
    "install.packages(\"openssl\")\n",
    "install.packages(\"httpuv\")"
   ]
  },
  {
   "cell_type": "code",
   "execution_count": 10,
   "metadata": {},
   "outputs": [
    {
     "ename": "ERROR",
     "evalue": "Error in library(rtweet): there is no package called ‘rtweet’\n",
     "output_type": "error",
     "traceback": [
      "Error in library(rtweet): there is no package called ‘rtweet’\nTraceback:\n",
      "1. library(rtweet)",
      "2. stop(txt, domain = NA)"
     ]
    }
   ],
   "source": [
    "#Importing Required Libraries\n",
    "library(rtweet)\n",
    "library(openssl)\n",
    "library(httpuv)"
   ]
  },
  {
   "cell_type": "code",
   "execution_count": 11,
   "metadata": {
    "collapsed": true
   },
   "outputs": [],
   "source": [
    "#Using Key and Secret Key From Twitter Developer Account\n",
    "myapp <- \"Flu Analysis\"                      #name of my app\n",
    "k <- \"JwxAZv9mbgAb2d5J5bRRhnDQ2\"         #key\n",
    "sec <- \"gVniZOmgWBoTLm9VYbKpmPLmboUd89HUIg70DPqWtXhx5ztWDO\" #secret key\n"
   ]
  },
  {
   "cell_type": "code",
   "execution_count": 12,
   "metadata": {
    "scrolled": true
   },
   "outputs": [
    {
     "ename": "ERROR",
     "evalue": "Error in create_token(app = myapp, consumer_key = k, consumer_secret = sec): could not find function \"create_token\"\n",
     "output_type": "error",
     "traceback": [
      "Error in create_token(app = myapp, consumer_key = k, consumer_secret = sec): could not find function \"create_token\"\nTraceback:\n"
     ]
    }
   ],
   "source": [
    "#Twitter Login\n",
    "twitter_token <- create_token(\n",
    "  app = myapp,\n",
    "  consumer_key = k,\n",
    "  consumer_secret = sec)"
   ]
  },
  {
   "cell_type": "code",
   "execution_count": null,
   "metadata": {},
   "outputs": [],
   "source": [
    "#searching tweets\n",
    "raw <- search_tweets(\"gun violence\", geocode = lookup_coords(\"usa\"), n = 10000)\n",
    "location <- lat_lng(raw)\n",
    "location <- as.data.frame(location)\n",
    "test <- location[which(location$country_code == \"US\"),names(location) %in% c(\"screen_name\",\"text\",\"place_full_name\",\"country\",\"lng\",\"lat\")]\n",
    "test\n",
    "#i use other key words too like fever flu medicine"
   ]
  },
  {
   "cell_type": "code",
   "execution_count": null,
   "metadata": {
    "collapsed": true
   },
   "outputs": [],
   "source": [
    "# Write to file \n",
    "write.csv(test,\"store.csv\")\n",
    "\n"
   ]
  },
  {
   "cell_type": "code",
   "execution_count": null,
   "metadata": {
    "collapsed": true
   },
   "outputs": [],
   "source": [
    "random <- read.csv(\"combineddata.csv\")\n",
    "st<-as.data.frame(random$place_full_name)\n",
    "new1 <- as.character(random$place_full_name)\n",
    "#Choping State Abs\n",
    "new<-sapply(strsplit(new1,\",\"),\"[\",2)\n",
    "new3<-as.data.frame(new)\n",
    "write.csv(new3,\"data1.csv\")\n",
    "# new3 got "
   ]
  }
 ],
 "metadata": {
  "kernelspec": {
   "display_name": "R",
   "language": "R",
   "name": "ir"
  },
  "language_info": {
   "codemirror_mode": "r",
   "file_extension": ".r",
   "mimetype": "text/x-r-source",
   "name": "R",
   "pygments_lexer": "r",
   "version": "3.4.2"
  }
 },
 "nbformat": 4,
 "nbformat_minor": 2
}
